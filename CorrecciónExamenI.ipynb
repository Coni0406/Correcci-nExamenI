{
  "nbformat": 4,
  "nbformat_minor": 0,
  "metadata": {
    "colab": {
      "provenance": []
    },
    "kernelspec": {
      "name": "python3",
      "display_name": "Python 3"
    },
    "language_info": {
      "name": "python"
    }
  },
  "cells": [
    {
      "cell_type": "code",
      "execution_count": 2,
      "metadata": {
        "colab": {
          "base_uri": "https://localhost:8080/"
        },
        "id": "i7W-APZDJ8sD",
        "outputId": "39c06560-9107-4c8e-e314-4ce823817b61"
      },
      "outputs": [
        {
          "output_type": "stream",
          "name": "stdout",
          "text": [
            "El valor de x es: -0.011579\n"
          ]
        }
      ],
      "source": [
        "# EJERCICIO 1\n",
        "x = [1.31, 1.93]\n",
        "y = [3.24, 4.76]\n",
        "\n",
        "Resul = (x[0] * y[1] - x[1] * y[0]) / (y[1] - y[0])\n",
        "Resul = round(Resul, 6)\n",
        "\n",
        "print(\"El valor de x es:\", Resul)"
      ]
    },
    {
      "cell_type": "code",
      "source": [
        "# MÉTODO A\n",
        "x_a = (x[0] * y[1] - x[1] * y[0]) / (y[1] - y[0])\n",
        "\n",
        "x_esp = -0.0197\n",
        "error_a = abs((x_a - x_esperado) / x_esperado)\n",
        "x_a = round(x_a, 3)\n",
        "error_a = round(error_a, 3)\n",
        "\n",
        "print(\"x =\", x_a)\n",
        "print(\"Error relativo =\", error_a)"
      ],
      "metadata": {
        "colab": {
          "base_uri": "https://localhost:8080/"
        },
        "id": "WRiAC7_pSIKI",
        "outputId": "a623e79e-841b-4286-d5d9-551b4ae93d8d"
      },
      "execution_count": 7,
      "outputs": [
        {
          "output_type": "stream",
          "name": "stdout",
          "text": [
            "x = -0.012\n",
            "Error relativo = 0.103\n"
          ]
        }
      ]
    },
    {
      "cell_type": "code",
      "source": [
        "# MÉTODO B\n",
        "x_b = x[0] - ((x[1] - x[0]) * y[0]) / (y[1] - y[0])\n",
        "\n",
        "x_esperado = -0.0105\n",
        "error_b = abs((x_b - x_esperado) / x_esperado)\n",
        "x_b = round(x_b, 3)\n",
        "error_b = round(error_b, 3)\n",
        "\n",
        "print(\"x =\", x_b)\n",
        "print(\"Error relativo =\", error_b)"
      ],
      "metadata": {
        "colab": {
          "base_uri": "https://localhost:8080/"
        },
        "id": "SOKklxwgSKRb",
        "outputId": "5ae81fb0-6f98-4e76-8595-748bf408ff80"
      },
      "execution_count": 8,
      "outputs": [
        {
          "output_type": "stream",
          "name": "stdout",
          "text": [
            "x = -0.012\n",
            "Error relativo = 0.103\n"
          ]
        }
      ]
    },
    {
      "cell_type": "code",
      "source": [
        "# EJERCICIO 2\n",
        "pi_real = 3.14159\n",
        "def arctan_approx(x):\n",
        "    return x - (1/3) * x**3 + (1/5) * x**5\n",
        "\n",
        "approximation = 4 * (arctan_approx(1/2) + arctan_approx(1/3))\n",
        "epsilon = abs((approximation - pi_real) / pi_real)\n",
        "epsilon_rounded = round(epsilon, 4)\n",
        "print(\"ε =\", epsilon_rounded)"
      ],
      "metadata": {
        "colab": {
          "base_uri": "https://localhost:8080/"
        },
        "id": "LZKGOsCBSaVF",
        "outputId": "876035a1-1391-470a-8af1-c52ec47623a3"
      },
      "execution_count": 27,
      "outputs": [
        {
          "output_type": "stream",
          "name": "stdout",
          "text": [
            "ε = 0.0013\n"
          ]
        }
      ]
    },
    {
      "cell_type": "code",
      "source": [
        "approximation = 16 * arctan_approx(1/5) - 4 * arctan_approx(1/239)\n",
        "epsilon = abs((approximation - pi_real) / pi_real)\n",
        "epsilon_rounded = round(epsilon, 8)\n",
        "print(\"ε =\", epsilon_rounded)"
      ],
      "metadata": {
        "colab": {
          "base_uri": "https://localhost:8080/"
        },
        "id": "GOxRLiL6Sa0v",
        "outputId": "43773e07-42f6-44d8-8cf5-6a05cc036cec"
      },
      "execution_count": 28,
      "outputs": [
        {
          "output_type": "stream",
          "name": "stdout",
          "text": [
            "ε = 9.88e-06\n"
          ]
        }
      ]
    },
    {
      "cell_type": "code",
      "source": [
        "# EJERCICIO 3\n",
        "def secant_method(f, x0, x1, tol=1e-6, max_iter=100):\n",
        "    x_prev = x0\n",
        "    x_curr = x1\n",
        "    iter_count = 0\n",
        "\n",
        "    f_prev = f(x_prev)\n",
        "    f_curr = f(x_curr)\n",
        "\n",
        "    while abs(f_curr) > tol and iter_count < max_iter:\n",
        "        x_next = x_curr - f_curr * (x_curr - x_prev) / (f_curr - f_prev)\n",
        "        x_prev = x_curr\n",
        "        x_curr = x_next\n",
        "        f_prev = f_curr\n",
        "        f_curr = f(x_curr)\n",
        "        iter_count += 1\n",
        "\n",
        "    return x_curr, iter_count"
      ],
      "metadata": {
        "id": "Hm2bxqAQSmgV"
      },
      "execution_count": 11,
      "outputs": []
    },
    {
      "cell_type": "code",
      "source": [
        "# EJERCICIO A\n",
        "i = 0\n",
        "\n",
        "def func(x):\n",
        "    global i\n",
        "    i += 1\n",
        "    y = x**3 - 3 * x**2 + x - 1\n",
        "    print(f\"Llamada i={i}\\t x={x:.5f}\\t y={y:.2f}\")\n",
        "    return y\n",
        "\n",
        "secant_method(func, x0=2, x1=3)"
      ],
      "metadata": {
        "colab": {
          "base_uri": "https://localhost:8080/"
        },
        "id": "GAQlFWJPSv-G",
        "outputId": "3f047550-54c3-482a-9dbe-36fb9e7f7c97"
      },
      "execution_count": 12,
      "outputs": [
        {
          "output_type": "stream",
          "name": "stdout",
          "text": [
            "Llamada i=1\t x=2.00000\t y=-3.00\n",
            "Llamada i=2\t x=3.00000\t y=2.00\n",
            "Llamada i=3\t x=2.60000\t y=-1.10\n",
            "Llamada i=4\t x=2.74227\t y=-0.20\n",
            "Llamada i=5\t x=2.77296\t y=0.03\n",
            "Llamada i=6\t x=2.76922\t y=-0.00\n",
            "Llamada i=7\t x=2.76929\t y=-0.00\n",
            "Llamada i=8\t x=2.76929\t y=0.00\n"
          ]
        },
        {
          "output_type": "execute_result",
          "data": {
            "text/plain": [
              "(2.7692923542484045, 6)"
            ]
          },
          "metadata": {},
          "execution_count": 12
        }
      ]
    },
    {
      "cell_type": "code",
      "source": [
        "# EJERCICIO B\n",
        "i = 0\n",
        "\n",
        "import math\n",
        "def func(x):\n",
        "    global i\n",
        "    i += 1\n",
        "    y = math.sin(x) + 0.5\n",
        "    print(f\"Llamada i={i}\\t x={x:.5f}\\t y={y:.2f}\")\n",
        "    return y\n",
        "\n",
        "secant_method(func, x0=2, x1=3)"
      ],
      "metadata": {
        "colab": {
          "base_uri": "https://localhost:8080/"
        },
        "id": "mNaEsL0TS2Qn",
        "outputId": "e01c04d2-ac4d-44e3-907c-b60735f4cce7"
      },
      "execution_count": 13,
      "outputs": [
        {
          "output_type": "stream",
          "name": "stdout",
          "text": [
            "Llamada i=1\t x=2.00000\t y=1.41\n",
            "Llamada i=2\t x=3.00000\t y=0.64\n",
            "Llamada i=3\t x=3.83460\t y=-0.14\n",
            "Llamada i=4\t x=3.68602\t y=-0.02\n",
            "Llamada i=5\t x=3.66399\t y=0.00\n",
            "Llamada i=6\t x=3.66520\t y=-0.00\n",
            "Llamada i=7\t x=3.66519\t y=-0.00\n"
          ]
        },
        {
          "output_type": "execute_result",
          "data": {
            "text/plain": [
              "(3.66519143172732, 5)"
            ]
          },
          "metadata": {},
          "execution_count": 13
        }
      ]
    },
    {
      "cell_type": "code",
      "source": [
        "# EJERCICIO 4\n",
        "def f(x):\n",
        "    return math.sin(x)\n",
        "def bisection_method(a, b, tolerance=1e-6, max_iterations=100):\n",
        "    if f(a) * f(b) > 0:\n",
        "        return \"Error [sin cambio de signo]\"\n",
        "    for i in range(max_iterations):\n",
        "        c = (a + b) / 2\n",
        "        if abs(f(c)) < tolerance:\n",
        "            return c\n",
        "\n",
        "        if f(c) * f(a) < 0:\n",
        "            b = c\n",
        "        else:\n",
        "            a = c\n",
        "    return \"Error [división para 0]\"\n",
        "\n",
        "intervalos = [\n",
        "    (-1, 2),\n",
        "    (-4, 5),\n",
        "    (3, 5),\n",
        "    (-3.5, 3),\n",
        "    (-5, 4),\n",
        "    (-2.5, -1)\n",
        "]\n",
        "\n",
        "for i, (a, b) in enumerate(intervalos):\n",
        "    resultado = bisection_method(a, b)\n",
        "    print(f\"Resultado para los intervalos a={a}, b={b}: {resultado}\")"
      ],
      "metadata": {
        "colab": {
          "base_uri": "https://localhost:8080/"
        },
        "id": "UgjAZMgFTA1_",
        "outputId": "5a9f63df-e85b-4459-82f0-bcf68d478099"
      },
      "execution_count": 17,
      "outputs": [
        {
          "output_type": "stream",
          "name": "stdout",
          "text": [
            "Resultado para los intervalos a=-1, b=2: -9.5367431640625e-07\n",
            "Resultado para los intervalos a=-4, b=5: 3.141591787338257\n",
            "Resultado para los intervalos a=3, b=5: 3.141592025756836\n",
            "Resultado para los intervalos a=-3.5, b=3: Error [sin cambio de signo]\n",
            "Resultado para los intervalos a=-5, b=4: -3.141591787338257\n",
            "Resultado para los intervalos a=-2.5, b=-1: Error [sin cambio de signo]\n"
          ]
        }
      ]
    },
    {
      "cell_type": "code",
      "source": [
        "# EJERCICIO 5\n",
        "# X0 = 3\n",
        "import math\n",
        "\n",
        "def f(x):\n",
        "    return x**3 - 3*x**2 + x - 1\n",
        "def f_prime(x):\n",
        "    return 3*x**2 - 6*x + 1\n",
        "def newton_method(x0, tol=1e-6, max_iter=100):\n",
        "    x_n = x0\n",
        "    for n in range(max_iter):\n",
        "        fx = f(x_n)\n",
        "        fpx = f_prime(x_n)\n",
        "\n",
        "        if abs(fpx) < 1e-10:\n",
        "            print(\"La derivada es muy cercana a cero. Método falló.\")\n",
        "            return None\n",
        "        x_n1 = x_n - fx / fpx\n",
        "        if abs(x_n1 - x_n) < tol:\n",
        "            print(f\"Raíz encontrada: x = {x_n1}, en {n+1} iteraciones.\")\n",
        "            return x_n1\n",
        "        x_n = x_n1\n",
        "    print(\"El método no convergió después del número máximo de iteraciones.\")\n",
        "    return None\n",
        "\n",
        "# Valor inicial\n",
        "x0 = 3\n",
        "\n",
        "root = newton_method(x0)\n",
        "if root is not None:\n",
        "    print(f\"La raíz aproximada es: {root}\")"
      ],
      "metadata": {
        "colab": {
          "base_uri": "https://localhost:8080/"
        },
        "id": "SqEiMzyhTZ_M",
        "outputId": "b41724f7-0098-4ce6-ff28-d6bbbc15b472"
      },
      "execution_count": 18,
      "outputs": [
        {
          "output_type": "stream",
          "name": "stdout",
          "text": [
            "Raíz encontrada: x = 2.7692923542386993, en 4 iteraciones.\n",
            "La raíz aproximada es: 2.7692923542386993\n"
          ]
        }
      ]
    },
    {
      "cell_type": "code",
      "source": [
        "# X0 = 1\n",
        "import math\n",
        "\n",
        "def f(x):\n",
        "    return x**3 - 3*x**2 + x - 1\n",
        "def f_prime(x):\n",
        "    return 3*x**2 - 6*x + 1\n",
        "def newton_method(x0, tol=1e-6, max_iter=100):\n",
        "    x_n = x0\n",
        "    for n in range(max_iter):\n",
        "        fx = f(x_n)\n",
        "        fpx = f_prime(x_n)\n",
        "        if abs(fpx) < 1e-10:\n",
        "            print(\"La derivada es muy cercana a cero. Método falló.\")\n",
        "            return None\n",
        "        x_n1 = x_n - fx / fpx\n",
        "        if abs(x_n1 - x_n) < tol:\n",
        "            print(f\"Raíz encontrada: x = {x_n1}, en {n+1} iteraciones.\")\n",
        "            return x_n1\n",
        "        x_n = x_n1\n",
        "\n",
        "    print(\"El método no convergió después del número máximo de iteraciones.\")\n",
        "    return None\n",
        "\n",
        "# Valor inicial\n",
        "x0 = 1\n",
        "\n",
        "root = newton_method(x0)\n",
        "if root is not None:\n",
        "    print(f\"La raíz aproximada es: {root}\")"
      ],
      "metadata": {
        "colab": {
          "base_uri": "https://localhost:8080/"
        },
        "id": "CzzHBJvUTwEW",
        "outputId": "6c9fdd70-2171-4dc0-c74c-ed206b345524"
      },
      "execution_count": 19,
      "outputs": [
        {
          "output_type": "stream",
          "name": "stdout",
          "text": [
            "El método no convergió después del número máximo de iteraciones.\n"
          ]
        }
      ]
    },
    {
      "cell_type": "code",
      "source": [
        "# X0 = 0\n",
        "import math\n",
        "\n",
        "def f(x):\n",
        "    return x**3 - 3*x**2 + x - 1\n",
        "def f_prime(x):\n",
        "    return 3*x**2 - 6*x + 1\n",
        "def newton_method(x0, tol=1e-6, max_iter=100):\n",
        "    x_n = x0\n",
        "    for n in range(max_iter):\n",
        "        fx = f(x_n)\n",
        "        fpx = f_prime(x_n)\n",
        "        if abs(fpx) < 1e-10:\n",
        "            print(\"La derivada es muy cercana a cero. Método falló.\")\n",
        "            return None\n",
        "        x_n1 = x_n - fx / fpx  # Fórmula del método de Newton\n",
        "        if abs(x_n1 - x_n) < tol:\n",
        "            print(f\"Raíz encontrada: x = {x_n1}, en {n+1} iteraciones.\")\n",
        "            return x_n1\n",
        "        x_n = x_n1\n",
        "\n",
        "    print(\"El método no convergió después del número máximo de iteraciones.\")\n",
        "    return None\n",
        "\n",
        "# Valor inicial\n",
        "x0 = 0\n",
        "\n",
        "root = newton_method(x0)\n",
        "if root is not None:\n",
        "    print(f\"La raíz aproximada es: {root}\")"
      ],
      "metadata": {
        "colab": {
          "base_uri": "https://localhost:8080/"
        },
        "id": "0_bVAfEwUOB0",
        "outputId": "09a5a410-ca91-422e-f208-1cd0b947c059"
      },
      "execution_count": 20,
      "outputs": [
        {
          "output_type": "stream",
          "name": "stdout",
          "text": [
            "El método no convergió después del número máximo de iteraciones.\n"
          ]
        }
      ]
    },
    {
      "cell_type": "code",
      "source": [
        "# X0 = 1 + v/6/3\n",
        "import math\n",
        "\n",
        "def f(x):\n",
        "    return x**3 - 3*x**2 + x - 1\n",
        "def f_prime(x):\n",
        "    return 3*x**2 - 6*x + 1\n",
        "def newton_method(x0, tol=1e-6, max_iter=100):\n",
        "    x_n = x0\n",
        "    for n in range(max_iter):\n",
        "        fx = f(x_n)\n",
        "        fpx = f_prime(x_n)\n",
        "        if abs(fpx) < 1e-10:\n",
        "            print(\"La derivada es muy cercana a cero. Método falló.\")\n",
        "            return None\n",
        "        x_n1 = x_n - fx / fpx  # Fórmula del método de Newton\n",
        "        if abs(x_n1 - x_n) < tol:\n",
        "            print(f\"Raíz encontrada: x = {x_n1}, en {n+1} iteraciones.\")\n",
        "            return x_n1\n",
        "        x_n = x_n1\n",
        "\n",
        "    print(\"El método no convergió después del número máximo de iteraciones.\")\n",
        "    return None\n",
        "\n",
        "# Valor inicial\n",
        "x0 = 1+ math.sqrt(6)/3\n",
        "\n",
        "root = newton_method(x0)\n",
        "if root is not None:\n",
        "    print(f\"La raíz aproximada es: {root}\")"
      ],
      "metadata": {
        "colab": {
          "base_uri": "https://localhost:8080/"
        },
        "id": "LaRqaUhfUfNu",
        "outputId": "a000994f-7ed5-433e-a507-b5b572627cf3"
      },
      "execution_count": 21,
      "outputs": [
        {
          "output_type": "stream",
          "name": "stdout",
          "text": [
            "La derivada es muy cercana a cero. Método falló.\n"
          ]
        }
      ]
    },
    {
      "cell_type": "code",
      "source": [
        "# EJERCICIO 6\n",
        "def Spline(x: float, x0: float, pars: dict[str, float]) -> float:\n",
        "    a = pars[\"a\"]\n",
        "    b = pars[\"b\"]\n",
        "    c = pars[\"c\"]\n",
        "    d = pars[\"d\"]\n",
        "    return a + b * (x - x0) + c * (x - x0) ** 2 + d * (x - x0) ** 3\n",
        "\n",
        "import matplotlib.pyplot as plt\n",
        "import numpy as np\n",
        "\n",
        "xs = [-1, 0, 1]\n",
        "ys = [1, 5, 3]\n",
        "s = [\n",
        "    {\"a\": 1, \"b\": 7, \"c\": 0, \"d\": -3},\n",
        "    {\"a\": 5, \"b\": -2, \"c\": 0, \"d\": 0},\n",
        "]\n",
        "for i, x_i in enumerate(xs[:-1]):\n",
        "    _x = np.linspace(x_i, xs[i + 1], 20)\n",
        "    _y = Spline(_x, x_i, s[i])\n",
        "    plt.plot(_x, _y, color=\"orange\")\n",
        "\n",
        "plt.scatter(xs, ys)\n",
        "plt.xlabel(\"x\")\n",
        "plt.ylabel(\"y\")\n",
        "plt.title(\"Interpolación con splines cúbicos\")\n",
        "plt.show()"
      ],
      "metadata": {
        "colab": {
          "base_uri": "https://localhost:8080/",
          "height": 472
        },
        "id": "IbEWRwgkU6U4",
        "outputId": "29157573-287d-4575-ddf4-5148c7539123"
      },
      "execution_count": 22,
      "outputs": [
        {
          "output_type": "display_data",
          "data": {
            "text/plain": [
              "<Figure size 640x480 with 1 Axes>"
            ],
            "image/png": "[encoded data removed]"
          },
          "metadata": {}
        }
      ]
    },
    {
      "cell_type": "code",
      "source": [
        "# EJERCICIO 7\n",
        "def Spline(x: float, x0: float, pars: dict[str, float]) -> float:\n",
        "    a = pars[\"a\"]\n",
        "    b = pars[\"b\"]\n",
        "    c = pars[\"c\"]\n",
        "    d = pars[\"d\"]\n",
        "    return a + b * (x - x0) + c * (x - x0) ** 2 + d * (x - x0) ** 3"
      ],
      "metadata": {
        "id": "9qI209NHU-6V"
      },
      "execution_count": 24,
      "outputs": []
    },
    {
      "cell_type": "code",
      "source": [
        "import matplotlib.pyplot as plt\n",
        "import numpy as np\n",
        "\n",
        "xs = [-1, 1]\n",
        "ys = [1, 3]\n",
        "s = [\n",
        "    {\"a\": 1, \"b\": 1, \"c\": -1/2, \"d\": 1/4},\n",
        "]\n",
        "for i, x_i in enumerate(xs[:-1]):\n",
        "    _x = np.linspace(x_i, xs[i + 1], 20)\n",
        "    _y = Spline(_x, x_i, s[i])\n",
        "    plt.plot(_x, _y, color=\"red\")\n",
        "\n",
        "plt.scatter(xs, ys)\n",
        "plt.xlabel(\"x\")\n",
        "plt.ylabel(\"y\")\n",
        "plt.title(\"Interpolación con splines cúbicos\")\n",
        "plt.show()"
      ],
      "metadata": {
        "colab": {
          "base_uri": "https://localhost:8080/",
          "height": 472
        },
        "id": "rFA4sqnfV6Rp",
        "outputId": "4582ba19-a58e-41a2-faad-b0335c0d65d7"
      },
      "execution_count": 25,
      "outputs": [
        {
          "output_type": "display_data",
          "data": {
            "text/plain": [
              "<Figure size 640x480 with 1 Axes>"
            ],
            "image/png": "[encoded data removed]"
          },
          "metadata": {}
        }
      ]
    },
    {
      "cell_type": "code",
      "source": [
        "# EJERCICIO 8\n",
        "import numpy as np\n",
        "import matplotlib.pyplot as plt\n",
        "\n",
        "def spline_cubico(x):\n",
        "    \"\"\"\n",
        "    Calcula el valor del spline cúbico en el punto x.\n",
        "    S(x) = 0.25 * (x + 1)^3 - 0.5 * (x + 1)^2 + 1 * (x + 1) + 1\n",
        "    \"\"\"\n",
        "    return 0.25 * (x + 1)**3 - 0.5 * (x + 1)**2 + 1 * (x + 1) + 1\n",
        "\n",
        "x_points = [-1, 1]\n",
        "y_points = [1, 3]\n",
        "x_plot = np.linspace(-2, 2, 500)\n",
        "y_plot = spline_cubico(x_plot)\n",
        "\n",
        "plt.figure(figsize=(6,4))\n",
        "plt.plot(x_plot, y_plot, label=\"Spline Cúbico\", color=\"orange\")\n",
        "plt.scatter(x_points, y_points, color=\"red\", label=\"Puntos dados\", zorder=5)\n",
        "plt.title(\"Spline Cúbico\")\n",
        "plt.xlabel(\"x\")\n",
        "plt.ylabel(\"S(x)\")\n",
        "plt.legend()\n",
        "plt.grid(alpha=0.3)\n",
        "plt.show()"
      ],
      "metadata": {
        "colab": {
          "base_uri": "https://localhost:8080/",
          "height": 411
        },
        "id": "LpdX6cVuVEQ9",
        "outputId": "970a4af6-5a81-4f13-9e54-333c60fff568"
      },
      "execution_count": 23,
      "outputs": [
        {
          "output_type": "display_data",
          "data": {
            "text/plain": [
              "<Figure size 600x400 with 1 Axes>"
            ],
            "image/png": "[encoded data removed]"
          },
          "metadata": {}
        }
      ]
    },
    {
      "cell_type": "code",
      "source": [
        "import matplotlib.pyplot as plt\n",
        "import numpy as np\n",
        "\n",
        "xs = [-1, 0, 1]\n",
        "ys = [1, 5, 3]\n",
        "s = [\n",
        "    {\"a\": 1, \"b\": 7, \"c\": 0, \"d\":-3},\n",
        "    {\"a\": 5, \"b\":-2, \"c\": 0, \"d\": 0}\n",
        "]\n",
        "for i, x_i in enumerate(xs[:-1]):\n",
        "    _x = np.linspace(x_i, xs[i + 1], 20)\n",
        "    _y = Spline(_x, x_i, s[i])\n",
        "    plt.plot(_x, _y, color=\"red\")\n",
        "\n",
        "plt.scatter(xs, ys)\n",
        "plt.xlabel(\"x\")\n",
        "plt.ylabel(\"y\")\n",
        "plt.title(\"Interpolación con splines cúbicos\")\n",
        "plt.show()"
      ],
      "metadata": {
        "colab": {
          "base_uri": "https://localhost:8080/",
          "height": 472
        },
        "id": "h6TOy_gtasl0",
        "outputId": "9d9ea38a-5cbe-470d-d7e5-7b720bf03905"
      },
      "execution_count": 29,
      "outputs": [
        {
          "output_type": "display_data",
          "data": {
            "text/plain": [
              "<Figure size 640x480 with 1 Axes>"
            ],
            "image/png": "[encoded data removed]"
          },
          "metadata": {}
        }
      ]
    }
  ]
}